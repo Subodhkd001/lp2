{
 "cells": [
  {
   "cell_type": "code",
   "execution_count": null,
   "metadata": {},
   "outputs": [
    {
     "name": "stdout",
     "output_type": "stream",
     "text": [
      "Select symptoms for hospital diagnosis:\n"
     ]
    },
    {
     "data": {
      "application/vnd.jupyter.widget-view+json": {
       "model_id": "a73e336c5fc447a58d5ed8f5c37aa85b",
       "version_major": 2,
       "version_minor": 0
      },
      "text/plain": [
       "GridBox(children=(Checkbox(value=False, description='chest pain', indent=False), Checkbox(value=False, descrip…"
      ]
     },
     "metadata": {},
     "output_type": "display_data"
    },
    {
     "data": {
      "application/vnd.jupyter.widget-view+json": {
       "model_id": "19a0cc67f09f4e7a82330b61975a53bd",
       "version_major": 2,
       "version_minor": 0
      },
      "text/plain": [
       "HBox(children=(Button(button_style='success', description='Diagnose', style=ButtonStyle(), tooltip='Click to d…"
      ]
     },
     "metadata": {},
     "output_type": "display_data"
    },
    {
     "data": {
      "application/vnd.jupyter.widget-view+json": {
       "model_id": "377e0559af0e4291a0c18115653a0aa6",
       "version_major": 2,
       "version_minor": 0
      },
      "text/plain": [
       "Output()"
      ]
     },
     "metadata": {},
     "output_type": "display_data"
    }
   ],
   "source": [
    "import pandas as pd\n",
    "import ipywidgets as widgets\n",
    "from IPython.display import display, clear_output\n",
    "\n",
    "class MedicalExpertSystem:\n",
    "    def __init__(self, csv_file):\n",
    "        self.knowledge_base = {}\n",
    "        self.symptoms_set = set()\n",
    "\n",
    "        df = pd.read_csv(csv_file)\n",
    "        symptom_cols = [col for col in df.columns if col.startswith(\"Symptom\")]\n",
    "\n",
    "        for _, row in df.iterrows():\n",
    "            disease = row['Disease']\n",
    "            symptoms = [str(row[col]).strip().lower() for col in symptom_cols if pd.notna(row[col])]\n",
    "            self.knowledge_base[disease] = symptoms\n",
    "            self.symptoms_set.update(symptoms)\n",
    "\n",
    "        self.symptoms_list = sorted(self.symptoms_set)\n",
    "\n",
    "\n",
    "    def diagnose(self, user_symptoms):\n",
    "        if not user_symptoms:\n",
    "            return [\"No symptoms selected. Please select at least one symptom to diagnose.\"]\n",
    "\n",
    "        diagnoses = []\n",
    "        partial_matches = []\n",
    "        for disease, symptoms in self.knowledge_base.items():\n",
    "            matching_symptoms = [s for s in symptoms if s in user_symptoms]\n",
    "            match_ratio = len(matching_symptoms) / len(symptoms)\n",
    "            if match_ratio >= 0.4:\n",
    "                diagnoses.append({\n",
    "                    \"disease\": disease,\n",
    "                    \"matched\": matching_symptoms,\n",
    "                    \"confidence\": round(match_ratio * 100, 2)\n",
    "                })\n",
    "            elif matching_symptoms:\n",
    "                partial_matches.append({\n",
    "                    \"disease\": disease,\n",
    "                    \"matched\": matching_symptoms,\n",
    "                    \"confidence\": round(match_ratio * 100, 2)\n",
    "                })\n",
    "\n",
    "        if not diagnoses:\n",
    "            partial_info = \"\\nPartial matches (not enough symptoms):\"\n",
    "            for pm in sorted(partial_matches, key=lambda x: x[\"confidence\"], reverse=True):\n",
    "                partial_info += f\"\\n- {pm['disease']} (Confidence: {pm['confidence']}%, Symptoms matched: {', '.join(pm['matched'])})\"\n",
    "            return [\"No clear diagnosis based on selected symptoms. Please consult a healthcare professional.\" + partial_info]\n",
    "\n",
    "        diagnoses.sort(key=lambda x: x[\"confidence\"], reverse=True)\n",
    "        return [f\"Possible {d['disease']} (Confidence: {d['confidence']}%, Symptoms matched: {', '.join(d['matched'])})\" for d in diagnoses]\n",
    "\n",
    "# Update the path if needed\n",
    "csv_path = \"medical_data.csv\"\n",
    "expert_system = MedicalExpertSystem(csv_path)\n",
    "\n",
    "# UI setup\n",
    "symptom_checkboxes = [widgets.Checkbox(value=False, description=symptom, indent=False) for symptom in expert_system.symptoms_list]\n",
    "submit_button = widgets.Button(description=\"Diagnose\", button_style=\"success\")\n",
    "clear_button = widgets.Button(description=\"Clear\", button_style=\"warning\")\n",
    "output = widgets.Output()\n",
    "\n",
    "checkbox_grid = widgets.GridBox(symptom_checkboxes, layout=widgets.Layout(grid_template_columns=\"repeat(3, 33%)\"))\n",
    "button_box = widgets.HBox([submit_button, clear_button])\n",
    "\n",
    "def on_submit_clicked(b):\n",
    "    with output:\n",
    "        clear_output()\n",
    "        selected = [cb.description for cb in symptom_checkboxes if cb.value]\n",
    "        print(\"Medical Diagnosis Expert System\")\n",
    "        print(\"Selected symptoms:\", \", \".join(selected) if selected else \"None\")\n",
    "        results = expert_system.diagnose(selected)\n",
    "        print(\"\\nDiagnosis Results:\")\n",
    "        for r in results:\n",
    "            print(\"-\", r)\n",
    "        print(\"\\nNote: Always consult a healthcare professional.\")\n",
    "\n",
    "def on_clear_clicked(b):\n",
    "    for cb in symptom_checkboxes:\n",
    "        cb.value = False\n",
    "    with output:\n",
    "        clear_output()\n",
    "\n",
    "submit_button.on_click(on_submit_clicked)\n",
    "clear_button.on_click(on_clear_clicked)\n",
    "\n",
    "# Display\n",
    "print(\"Select symptoms for diagnosis:\")\n",
    "display(checkbox_grid, button_box, output)\n"
   ]
  }
 ],
 "metadata": {
  "kernelspec": {
   "display_name": "Python 3 (ipykernel)",
   "language": "python",
   "name": "python3"
  },
  "language_info": {
   "codemirror_mode": {
    "name": "ipython",
    "version": 3
   },
   "file_extension": ".py",
   "mimetype": "text/x-python",
   "name": "python",
   "nbconvert_exporter": "python",
   "pygments_lexer": "ipython3",
   "version": "3.12.7"
  }
 },
 "nbformat": 4,
 "nbformat_minor": 4
}
