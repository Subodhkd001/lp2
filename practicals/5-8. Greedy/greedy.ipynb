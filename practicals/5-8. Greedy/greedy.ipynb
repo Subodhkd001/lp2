{
 "cells": [
  {
   "cell_type": "markdown",
   "metadata": {},
   "source": [
    "Dijkshtra MST"
   ]
  },
  {
   "cell_type": "code",
   "execution_count": 1,
   "metadata": {},
   "outputs": [
    {
     "name": "stdout",
     "output_type": "stream",
     "text": [
      "Pranav Suryavanshi  TBCO22108\n"
     ]
    },
    {
     "name": "stdin",
     "output_type": "stream",
     "text": [
      "Enter the number of vertices:  4\n"
     ]
    },
    {
     "name": "stdout",
     "output_type": "stream",
     "text": [
      "Enter the graph matrix:\n"
     ]
    },
    {
     "name": "stdin",
     "output_type": "stream",
     "text": [
      " 10 25 14 12\n",
      " 21 30 15 13\n",
      " 21 16 27 31\n",
      " 2 1 45 20\n"
     ]
    },
    {
     "name": "stdout",
     "output_type": "stream",
     "text": [
      "Enter the heuristic values for each vertex:\n"
     ]
    },
    {
     "name": "stdin",
     "output_type": "stream",
     "text": [
      "Heuristic value for vertex 0:  2 \n",
      "Heuristic value for vertex 1:  3\n",
      "Heuristic value for vertex 2:  1\n",
      "Heuristic value for vertex 3:  0\n",
      "Enter the source vertex:  0\n"
     ]
    },
    {
     "name": "stdout",
     "output_type": "stream",
     "text": [
      "\n",
      "Final Solution:\n",
      "Vertex \tDistance from Source \tHeuristic Value\n",
      "0 \t\t 0 \t\t 2\n",
      "1 \t\t 13 \t\t 3\n",
      "2 \t\t 14 \t\t 1\n",
      "3 \t\t 12 \t\t 0\n",
      "Heuristic function is the estimated cost from the current node\n"
     ]
    }
   ],
   "source": [
    "import sys\n",
    "\n",
    "class Graph():\n",
    "\n",
    "    def __init__(self, vertices):\n",
    "        self.V = vertices\n",
    "        self.graph = [[0 for column in range(vertices)]\n",
    "                      for row in range(vertices)]\n",
    "\n",
    "    def printSolution(self, dist, heuristics):\n",
    "        print(\"\\nFinal Solution:\")\n",
    "        print(\"Vertex \\tDistance from Source \\tHeuristic Value\")\n",
    "        for node in range(self.V):\n",
    "            print(f\"{node} \\t\\t {dist[node]} \\t\\t {heuristics[node]}\")\n",
    "        print(\"Heuristic function is the estimated cost from the current node\")\n",
    "\n",
    "    def minDistance(self, dist, sptSet):\n",
    "        min_val = sys.maxsize\n",
    "        min_index = -1\n",
    "        for u in range(self.V):\n",
    "            if dist[u] < min_val and not sptSet[u]:\n",
    "                min_val = dist[u]\n",
    "                min_index = u\n",
    "        return min_index\n",
    "\n",
    "    def dijkstra(self, src, heuristics):\n",
    "        dist = [sys.maxsize] * self.V\n",
    "        dist[src] = 0\n",
    "        sptSet = [False] * self.V\n",
    "\n",
    "        for cout in range(self.V):\n",
    "            x = self.minDistance(dist, sptSet)\n",
    "\n",
    "            sptSet[x] = True\n",
    "\n",
    "            for y in range(self.V):\n",
    "                if self.graph[x][y] > 0 and not sptSet[y] and dist[y] > dist[x] + self.graph[x][y]:\n",
    "                    dist[y] = dist[x] + self.graph[x][y]\n",
    "\n",
    "        # Call printSolution to display final result\n",
    "        self.printSolution(dist, heuristics)\n",
    "\n",
    "if __name__ == \"__main__\":\n",
    "    print(\"Pranav Suryavanshi  TBCO22108\")\n",
    "    vertices = int(input(\"Enter the number of vertices: \"))\n",
    "    graph = []\n",
    "    print(\"Enter the graph matrix:\")\n",
    "    for i in range(vertices):\n",
    "        row = list(map(int, input().split()))\n",
    "        graph.append(row)\n",
    "\n",
    "    g = Graph(vertices)\n",
    "    g.graph = graph\n",
    "\n",
    "    # Get heuristic values from the user\n",
    "    heuristics = []\n",
    "    print(\"Enter the heuristic values for each vertex:\")\n",
    "    for i in range(vertices):\n",
    "        h_value = int(input(f\"Heuristic value for vertex {i}: \"))\n",
    "        heuristics.append(h_value)\n",
    "\n",
    "    src = int(input(\"Enter the source vertex: \"))\n",
    "    g.dijkstra(src, heuristics)\n"
   ]
  },
  {
   "cell_type": "markdown",
   "metadata": {},
   "source": [
    "Selection Sort"
   ]
  },
  {
   "cell_type": "code",
   "execution_count": 2,
   "metadata": {},
   "outputs": [
    {
     "name": "stdout",
     "output_type": "stream",
     "text": [
      "Pranav Suryavanshi  TBCO22108\n"
     ]
    },
    {
     "name": "stdin",
     "output_type": "stream",
     "text": [
      "Enter the array elements separated by space:  5 8 4 2 6 5 1 8 15 20 41 \n"
     ]
    },
    {
     "name": "stdout",
     "output_type": "stream",
     "text": [
      "Heuristic is used to calculate the distance of each element from its target sorted position.\n",
      "Step 1: Array: [1, 8, 4, 2, 6, 5, 5, 8, 15, 20, 41] | Heuristic: [0, 5, 0, 2, 1, 2, 2, 5, 0, 0, 0]\n",
      "Step 2: Array: [1, 2, 4, 8, 6, 5, 5, 8, 15, 20, 41] | Heuristic: [0, 0, 0, 3, 1, 2, 2, 3, 0, 0, 0]\n",
      "Step 3: Array: [1, 2, 4, 8, 6, 5, 5, 8, 15, 20, 41] | Heuristic: [0, 0, 0, 3, 1, 2, 2, 3, 0, 0, 0]\n",
      "Step 4: Array: [1, 2, 4, 5, 6, 8, 5, 8, 15, 20, 41] | Heuristic: [0, 0, 0, 0, 1, 1, 0, 1, 0, 0, 0]\n",
      "Step 5: Array: [1, 2, 4, 5, 5, 8, 6, 8, 15, 20, 41] | Heuristic: [0, 0, 0, 0, 0, 1, 1, 1, 0, 0, 0]\n",
      "Step 6: Array: [1, 2, 4, 5, 5, 6, 8, 8, 15, 20, 41] | Heuristic: [0, 0, 0, 0, 0, 0, 0, 0, 0, 0, 0]\n",
      "Step 7: Array: [1, 2, 4, 5, 5, 6, 8, 8, 15, 20, 41] | Heuristic: [0, 0, 0, 0, 0, 0, 0, 0, 0, 0, 0]\n",
      "Step 8: Array: [1, 2, 4, 5, 5, 6, 8, 8, 15, 20, 41] | Heuristic: [0, 0, 0, 0, 0, 0, 0, 0, 0, 0, 0]\n",
      "Step 9: Array: [1, 2, 4, 5, 5, 6, 8, 8, 15, 20, 41] | Heuristic: [0, 0, 0, 0, 0, 0, 0, 0, 0, 0, 0]\n",
      "Step 10: Array: [1, 2, 4, 5, 5, 6, 8, 8, 15, 20, 41] | Heuristic: [0, 0, 0, 0, 0, 0, 0, 0, 0, 0, 0]\n",
      "Step 11: Array: [1, 2, 4, 5, 5, 6, 8, 8, 15, 20, 41] | Heuristic: [0, 0, 0, 0, 0, 0, 0, 0, 0, 0, 0]\n",
      "Sorted Array: [1, 2, 4, 5, 5, 6, 8, 8, 15, 20, 41]\n"
     ]
    }
   ],
   "source": [
    "def selectionSort(arr):\n",
    "    def heuristic(arr):\n",
    "        sorted_arr = sorted(arr)\n",
    "        heuristic_values = [abs(arr.index(x) - sorted_arr.index(x)) for x in arr]\n",
    "        return heuristic_values\n",
    "    \n",
    "    print(\"Heuristic is used to calculate the distance of each element from its target sorted position.\")\n",
    "    \n",
    "    for i in range(len(arr)):\n",
    "        min_index = i\n",
    "        for j in range(i + 1, len(arr)):\n",
    "            if arr[j] < arr[min_index]:\n",
    "                min_index = j\n",
    "        arr[i], arr[min_index] = arr[min_index], arr[i]\n",
    "        print(f\"Step {i + 1}: Array: {arr} | Heuristic: {heuristic(arr)}\")\n",
    "    \n",
    "    return arr\n",
    "\n",
    "print(\"Pranav Suryavanshi  TBCO22108\")\n",
    "arr = list(map(int, input(\"Enter the array elements separated by space: \").split()))\n",
    "sorted_array = selectionSort(arr)\n",
    "print(\"Sorted Array:\", sorted_array)\n",
    "\n"
   ]
  },
  {
   "cell_type": "markdown",
   "metadata": {},
   "source": [
    "Prims Algorithm"
   ]
  },
  {
   "cell_type": "code",
   "execution_count": 3,
   "metadata": {},
   "outputs": [
    {
     "name": "stdout",
     "output_type": "stream",
     "text": [
      "Pranav Suryavanshi  TBCO22108\n",
      "Estimated cost to reach the goal from the current node\n"
     ]
    },
    {
     "name": "stdin",
     "output_type": "stream",
     "text": [
      "Enter the number of vertices:  5\n"
     ]
    },
    {
     "name": "stdout",
     "output_type": "stream",
     "text": [
      "Enter the graph matrix:\n"
     ]
    },
    {
     "name": "stdin",
     "output_type": "stream",
     "text": [
      " 2 3 5 6 1\n",
      " 2 1 4 8 9\n",
      " 0 2 4 0 3\n",
      " 5 6 1 8 10\n",
      " 2 0 5 0 6\n"
     ]
    },
    {
     "name": "stdout",
     "output_type": "stream",
     "text": [
      "Enter the heuristic values for each vertex:\n"
     ]
    },
    {
     "name": "stdin",
     "output_type": "stream",
     "text": [
      "Heuristic value for vertex 0:  2\n",
      "Heuristic value for vertex 1:  1\n",
      "Heuristic value for vertex 2:  0\n",
      "Heuristic value for vertex 3:  3\n",
      "Heuristic value for vertex 4:  4\n",
      "Enter the source vertex:  0\n"
     ]
    },
    {
     "name": "stdout",
     "output_type": "stream",
     "text": [
      "Edge \tWeight \tHeuristic Value\n",
      "0 - 1 \t 2 \t 1\n",
      "1 - 2 \t 2 \t 0\n",
      "0 - 3 \t 5 \t 3\n",
      "0 - 4 \t 2 \t 4\n",
      "\n",
      "Total MST Cost: 11\n"
     ]
    }
   ],
   "source": [
    "import sys\n",
    "\n",
    "class Graph():\n",
    "    def __init__(self, vertices):\n",
    "        self.V = vertices\n",
    "        self.graph = [[0 for column in range(vertices)] for row in range(vertices)]\n",
    "    \n",
    "    def printMST(self, parent, heuristics, total_cost):\n",
    "        print(\"Edge \\tWeight \\tHeuristic Value\")\n",
    "        for i in range(1, self.V):\n",
    "            print(f\"{parent[i]} - {i} \\t {self.graph[i][parent[i]]} \\t {heuristics[i]}\")\n",
    "        print(f\"\\nTotal MST Cost: {total_cost}\")\n",
    "    \n",
    "    def minKey(self, key, mstSet):\n",
    "        min_val = sys.maxsize\n",
    "        min_index = -1\n",
    "        for v in range(self.V):\n",
    "            if key[v] < min_val and not mstSet[v]:\n",
    "                min_val = key[v]\n",
    "                min_index = v\n",
    "        return min_index\n",
    "    \n",
    "    def primMST(self, heuristics):\n",
    "        key = [sys.maxsize] * self.V\n",
    "        parent = [None] * self.V\n",
    "        key[0] = 0\n",
    "        mstSet = [False] * self.V\n",
    "        parent[0] = -1\n",
    "        total_cost = 0  # Variable to store total cost of the MST\n",
    "        \n",
    "        for cout in range(self.V):\n",
    "            u = self.minKey(key, mstSet)\n",
    "            mstSet[u] = True\n",
    "\n",
    "            for v in range(self.V):\n",
    "                if self.graph[u][v] > 0 and not mstSet[v] and self.graph[u][v] < key[v]:\n",
    "                    key[v] = self.graph[u][v]\n",
    "                    parent[v] = u\n",
    "\n",
    "        total_cost = sum(self.graph[i][parent[i]] for i in range(1, self.V))\n",
    "        \n",
    "        # Print MST and total cost\n",
    "        self.printMST(parent, heuristics, total_cost)\n",
    "\n",
    "if __name__ == '__main__':\n",
    "    print(\"Pranav Suryavanshi  TBCO22108\")\n",
    "    print(\"Estimated cost to reach the goal from the current node\")\n",
    "    vertices = int(input(\"Enter the number of vertices: \"))\n",
    "    g = Graph(vertices)\n",
    "    print(\"Enter the graph matrix:\")\n",
    "    for i in range(vertices):\n",
    "        row = list(map(int, input().split()))\n",
    "        for j in range(vertices):\n",
    "            g.graph[i][j] = row[j]\n",
    "    \n",
    "    # Get heuristic values from the user\n",
    "    heuristics = []\n",
    "    print(\"Enter the heuristic values for each vertex:\")\n",
    "    for i in range(vertices):\n",
    "        h_value = int(input(f\"Heuristic value for vertex {i}: \"))\n",
    "        heuristics.append(h_value)\n",
    "    \n",
    "    source_vertex = int(input(\"Enter the source vertex: \"))\n",
    "    g.primMST(heuristics)\n"
   ]
  },
  {
   "cell_type": "markdown",
   "metadata": {},
   "source": [
    "Kruskal Algorithm"
   ]
  },
  {
   "cell_type": "code",
   "execution_count": 4,
   "metadata": {},
   "outputs": [
    {
     "name": "stdout",
     "output_type": "stream",
     "text": [
      "Pranav Suryavanshi  TBCO22108\n",
      "heuristic here is the edge weight itself choose least cost edge next.\n"
     ]
    },
    {
     "name": "stdin",
     "output_type": "stream",
     "text": [
      "Enter the number of vertices:  4\n",
      "Enter the number of edges:  4\n"
     ]
    },
    {
     "name": "stdout",
     "output_type": "stream",
     "text": [
      "Enter the edges and their weights (u, v, w):\n"
     ]
    },
    {
     "name": "stdin",
     "output_type": "stream",
     "text": [
      " 1 2 10\n",
      " 0 1 15\n",
      " 2 3 13\n",
      " 1 3 20\n"
     ]
    },
    {
     "name": "stdout",
     "output_type": "stream",
     "text": [
      "Enter the heuristic values for each vertex:\n"
     ]
    },
    {
     "name": "stdin",
     "output_type": "stream",
     "text": [
      "Heuristic value for vertex 0:  2 \n",
      "Heuristic value for vertex 1:  1 \n",
      "Heuristic value for vertex 2:  3\n",
      "Heuristic value for vertex 3:  4\n"
     ]
    },
    {
     "name": "stdout",
     "output_type": "stream",
     "text": [
      "Edges in the constructed MST with Heuristic Values\n",
      "1 -- 2 == 10, Heuristic Values: 1 - 3\n",
      "2 -- 3 == 13, Heuristic Values: 3 - 4\n",
      "0 -- 1 == 15, Heuristic Values: 2 - 1\n",
      "\n",
      "Minimum Spanning Tree Cost: 38\n"
     ]
    }
   ],
   "source": [
    "class Graph:\n",
    "    def __init__(self, vertices):\n",
    "        self.V = vertices\n",
    "        self.graph = []\n",
    "\n",
    "    def addEdge(self, u, v, w):\n",
    "        self.graph.append([u, v, w])\n",
    "\n",
    "    def find(self, parent, i):\n",
    "        if parent[i] != i:\n",
    "            parent[i] = self.find(parent, parent[i])\n",
    "        return parent[i]\n",
    "\n",
    "    def union(self, parent, rank, x, y):\n",
    "        if rank[x] < rank[y]:\n",
    "            parent[x] = y\n",
    "        elif rank[x] > rank[y]:\n",
    "            parent[y] = x\n",
    "        else:\n",
    "            parent[y] = x\n",
    "            rank[x] += 1\n",
    "\n",
    "    def KruskalMST(self, heuristics):\n",
    "        result = []\n",
    "        i = 0\n",
    "        e = 0\n",
    "        self.graph = sorted(self.graph, key=lambda item: item[2])\n",
    "        \n",
    "        parent = []\n",
    "        rank = []\n",
    "        \n",
    "        for node in range(self.V):\n",
    "            parent.append(node)\n",
    "            rank.append(0)\n",
    "        \n",
    "        while e < self.V - 1:\n",
    "            u, v, w = self.graph[i]\n",
    "            i = i + 1\n",
    "            x = self.find(parent, u)\n",
    "            y = self.find(parent, v)\n",
    "            if x != y:\n",
    "                e = e + 1\n",
    "                result.append([u, v, w])\n",
    "                self.union(parent, rank, x, y)\n",
    "        \n",
    "        minimumCost = 0\n",
    "        print(\"Edges in the constructed MST with Heuristic Values\")\n",
    "        for u, v, weight in result:\n",
    "            minimumCost += weight\n",
    "            print(f\"{u} -- {v} == {weight}, Heuristic Values: {heuristics[u]} - {heuristics[v]}\")\n",
    "        \n",
    "        print(f\"\\nMinimum Spanning Tree Cost: {minimumCost}\")\n",
    "\n",
    "if __name__ == '__main__':\n",
    "    print(\"Pranav Suryavanshi  TBCO22108\")\n",
    "    print(\"heuristic here is the edge weight itself choose least cost edge next.\")\n",
    "    vertices = int(input(\"Enter the number of vertices: \"))\n",
    "    g = Graph(vertices)\n",
    "    edges = int(input(\"Enter the number of edges: \"))\n",
    "    \n",
    "    print(\"Enter the edges and their weights (u, v, w):\")\n",
    "    for i in range(edges):\n",
    "        u, v, w = map(int, input().split())\n",
    "        g.addEdge(u, v, w)\n",
    "    \n",
    "    # Get heuristic values from the user\n",
    "    heuristics = []\n",
    "    print(\"Enter the heuristic values for each vertex:\")\n",
    "    for i in range(vertices):\n",
    "        h_value = int(input(f\"Heuristic value for vertex {i}: \"))\n",
    "        heuristics.append(h_value)\n",
    "    \n",
    "    g.KruskalMST(heuristics)\n"
   ]
  },
  {
   "cell_type": "markdown",
   "metadata": {},
   "source": [
    "Job Schedule"
   ]
  },
  {
   "cell_type": "code",
   "execution_count": 8,
   "metadata": {},
   "outputs": [
    {
     "name": "stdout",
     "output_type": "stream",
     "text": [
      "Pranav Suryavanshi  TBCO22108\n"
     ]
    },
    {
     "name": "stdin",
     "output_type": "stream",
     "text": [
      "Enter the number of jobs:  4\n",
      "Enter the profit of job 1:  100\n",
      "Enter the name of job 1:  A\n",
      "Enter the deadline of job 1:  2\n",
      "Enter the heuristic value for job 1:  8\n",
      "Enter the profit of job 2:  50\n",
      "Enter the name of job 2:  B\n",
      "Enter the deadline of job 2:  1\n",
      "Enter the heuristic value for job 2:  5\n",
      "Enter the profit of job 3:  200\n",
      "Enter the name of job 3:  C\n",
      "Enter the deadline of job 3:  2\n",
      "Enter the heuristic value for job 3:  10\n",
      "Enter the profit of job 4:  150\n",
      "Enter the name of job 4:  D\n",
      "Enter the deadline of job 4:  1\n",
      "Enter the heuristic value for job 4:  9\n"
     ]
    },
    {
     "name": "stdout",
     "output_type": "stream",
     "text": [
      "Huristic function is the profit according to which job is put\n",
      "Jobs scheduled with Heuristic Values:\n",
      "Job: D | Profit: 150 | Heuristic: 9\n",
      "Job: C | Profit: 200 | Heuristic: 10\n",
      "Total profit: 350\n"
     ]
    }
   ],
   "source": [
    "\n",
    "profit = []\n",
    "jobs = []\n",
    "deadline = []\n",
    "heuristics = []  \n",
    "\n",
    "print(\"Pranav Suryavanshi  TBCO22108\")\n",
    "n = int(input(\"Enter the number of jobs: \"))\n",
    "\n",
    "for i in range(n):\n",
    "    p = int(input(\"Enter the profit of job {}: \".format(i + 1)))\n",
    "    profit.append(p)\n",
    "    j = input(\"Enter the name of job {}: \".format(i + 1))\n",
    "    jobs.append(j)\n",
    "    d = int(input(\"Enter the deadline of job {}: \".format(i + 1)))\n",
    "    deadline.append(d)\n",
    "    h = int(input(\"Enter the heuristic value for job {}: \".format(i + 1)))  \n",
    "    heuristics.append(h)\n",
    "\n",
    "profitNJobs = list(zip(profit, jobs, deadline, heuristics))\n",
    "\n",
    "profitNJobs = sorted(profitNJobs, key=lambda x: x[0], reverse=True)\n",
    "\n",
    "slot = [0] * (n + 1)\n",
    "total_profit = 0\n",
    "ans = ['null'] * (n + 1)\n",
    "\n",
    "for i in range(n):\n",
    "    job = profitNJobs[i]\n",
    "    for j in range(job[2], 0, -1):  \n",
    "        if slot[j] == 0:\n",
    "            ans[j] = job[1]\n",
    "            total_profit += job[0]\n",
    "            slot[j] = 1\n",
    "            break\n",
    "\n",
    "print(\"Huristic function is the profit according to which job is put\")\n",
    "print(\"Jobs scheduled with Heuristic Values:\")\n",
    "for i in range(1, n + 1):\n",
    "    if ans[i] != 'null':\n",
    "        job_index = jobs.index(ans[i])\n",
    "        print(f\"Job: {ans[i]} | Profit: {profit[job_index]} | Heuristic: {heuristics[job_index]}\")\n",
    "\n",
    "# Output the total profit\n",
    "print(\"Total profit:\", total_profit)\n"
   ]
  },
  {
   "cell_type": "markdown",
   "metadata": {},
   "source": [
    "shortest path"
   ]
  },
  {
   "cell_type": "code",
   "execution_count": 9,
   "metadata": {},
   "outputs": [
    {
     "name": "stdout",
     "output_type": "stream",
     "text": [
      "Pranav Suryavanshi  TBCO22108\n",
      "Estimated cost from current node to goal \n"
     ]
    },
    {
     "name": "stdin",
     "output_type": "stream",
     "text": [
      "Enter the number of edges:  4\n",
      "Enter the edge (source destination weight):  0 1 15\n",
      "Enter the edge (source destination weight):  1 2 20\n",
      "Enter the edge (source destination weight):  2 3 25\n",
      "Enter the edge (source destination weight):  3 4 12\n",
      "Enter the heuristic value for node 0:  2 \n",
      "Enter the heuristic value for node 1:  1\n",
      "Enter the heuristic value for node 2:  0\n",
      "Enter the heuristic value for node 3:  3\n",
      "Enter the heuristic value for node 4:  4\n",
      "Enter the source node:  0\n"
     ]
    },
    {
     "name": "stdout",
     "output_type": "stream",
     "text": [
      "\n",
      "Shortest distances and heuristic values:\n",
      "Node: 0 | Distance: 0 | Heuristic: 2\n",
      "Node: 1 | Distance: 15 | Heuristic: 1\n",
      "Node: 2 | Distance: 35 | Heuristic: 0\n",
      "Node: 3 | Distance: 60 | Heuristic: 3\n",
      "Node: 4 | Distance: 72 | Heuristic: 4\n"
     ]
    }
   ],
   "source": [
    "import sys\n",
    "\n",
    "def greedy_search(graph, source, heuristics):\n",
    "    distances = {node: sys.maxsize for node in graph}\n",
    "    distances[source] = 0\n",
    "    unvisited = set(graph.keys())\n",
    "    \n",
    "    while unvisited:\n",
    "        current_node = min(unvisited, key=lambda node: distances[node])\n",
    "        unvisited.remove(current_node)\n",
    "        \n",
    "        for neighbor, weight in graph[current_node].items():\n",
    "            if neighbor in unvisited:\n",
    "                new_distance = distances[current_node] + weight\n",
    "                if new_distance < distances[neighbor]:\n",
    "                    distances[neighbor] = new_distance\n",
    "    \n",
    "    for node in graph.keys():\n",
    "        if node not in distances:\n",
    "            distances[node] = sys.maxsize\n",
    "    \n",
    "    return distances, heuristics\n",
    "\n",
    "graph = {}\n",
    "heuristics = {}\n",
    "\n",
    "print(\"Pranav Suryavanshi  TBCO22108\")\n",
    "print(\"Estimated cost from current node to goal \")\n",
    "n = int(input(\"Enter the number of edges: \"))\n",
    "\n",
    "\n",
    "for i in range(n):\n",
    "    edge = input(\"Enter the edge (source destination weight): \").split()\n",
    "    source, destination, weight = edge[0], edge[1], int(edge[2])\n",
    "    \n",
    "    if source not in graph:\n",
    "        graph[source] = {}\n",
    "    graph[source][destination] = weight\n",
    "    \n",
    "    if destination not in graph:\n",
    "        graph[destination] = {}\n",
    "\n",
    "for node in graph.keys():\n",
    "    h = int(input(f\"Enter the heuristic value for node {node}: \"))\n",
    "    heuristics[node] = h\n",
    "\n",
    "source = input(\"Enter the source node: \")\n",
    "\n",
    "distances, heuristics_values = greedy_search(graph, source, heuristics)\n",
    "\n",
    "print(\"\\nShortest distances and heuristic values:\")\n",
    "for node in graph.keys():\n",
    "    print(f\"Node: {node} | Distance: {distances[node]} | Heuristic: {heuristics_values[node]}\")\n"
   ]
  },
  {
   "cell_type": "code",
   "execution_count": null,
   "metadata": {},
   "outputs": [],
   "source": []
  }
 ],
 "metadata": {
  "kernelspec": {
   "display_name": "Python 3 (ipykernel)",
   "language": "python",
   "name": "python3"
  },
  "language_info": {
   "codemirror_mode": {
    "name": "ipython",
    "version": 3
   },
   "file_extension": ".py",
   "mimetype": "text/x-python",
   "name": "python",
   "nbconvert_exporter": "python",
   "pygments_lexer": "ipython3",
   "version": "3.12.7"
  }
 },
 "nbformat": 4,
 "nbformat_minor": 4
}
