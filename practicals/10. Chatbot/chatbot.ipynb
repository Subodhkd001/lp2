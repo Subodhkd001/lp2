{
 "cells": [
  {
   "cell_type": "code",
   "execution_count": 1,
   "id": "1c1bf286",
   "metadata": {},
   "outputs": [
    {
     "name": "stdout",
     "output_type": "stream",
     "text": [
      "Pranav Suryavanshi  TBCO22108\n"
     ]
    },
    {
     "name": "stdin",
     "output_type": "stream",
     "text": [
      "User:  hi\n"
     ]
    },
    {
     "name": "stdout",
     "output_type": "stream",
     "text": [
      "Bot: Hello!\n"
     ]
    },
    {
     "name": "stdin",
     "output_type": "stream",
     "text": [
      "User:  how are yoou\n"
     ]
    },
    {
     "name": "stdout",
     "output_type": "stream",
     "text": [
      "Bot: I'm sorry, I didn't understand that.\n"
     ]
    },
    {
     "name": "stdin",
     "output_type": "stream",
     "text": [
      "User:  how are you?\n"
     ]
    },
    {
     "name": "stdout",
     "output_type": "stream",
     "text": [
      "Bot: Feeling fantastic!\n"
     ]
    },
    {
     "name": "stdin",
     "output_type": "stream",
     "text": [
      "User:  see you later\n"
     ]
    },
    {
     "name": "stdout",
     "output_type": "stream",
     "text": [
      "Bot: Catch you later!\n"
     ]
    },
    {
     "name": "stdin",
     "output_type": "stream",
     "text": [
      "User:  exit\n"
     ]
    },
    {
     "name": "stdout",
     "output_type": "stream",
     "text": [
      "Bot: Goodbye!\n"
     ]
    }
   ],
   "source": [
    "import random\n",
    "\n",
    "print(\"Pranav Suryavanshi  TBCO22108\")\n",
    "\n",
    "responses = {\n",
    "    \"greeting\": [\n",
    "        \"Hello!\", \"Hi there!\", \"Welcome!\", \"Greetings!\"\n",
    "    ],\n",
    "    \"farewell\": [\n",
    "        \"Goodbye!\", \"See you later!\", \"Take care!\", \"Bye for now!\", \"Catch you later!\"\n",
    "    ],\n",
    "    \"thanks\": [\n",
    "        \"You're welcome!\", \"No problem!\", \"My pleasure!\", \"Anytime!\", \"Glad to help!\"\n",
    "    ],\n",
    "    \"compliment\": [\n",
    "        \"Thank you!\", \"You're too kind!\", \"That means a lot!\"\n",
    "    ],\n",
    "    \"how_are_you\": [\n",
    "        \"I'm doing great, thanks for asking!\", \"All good here! How about you?\",\n",
    "        \"Feeling fantastic!\", \"I'm always ready to chat!\"\n",
    "    ],\n",
    "    \"question\": [\n",
    "        \"That's an interesting question.\", \"I'll need to think about that.\", \n",
    "        \"Can you be more specific?\", \"I'm still learning, but I can try to help.\"\n",
    "    ],\n",
    "    \"default\": [\n",
    "        \"I'm sorry, I didn't understand that.\", \"Could you please rephrase?\",\n",
    "        \"I'm not sure I follow.\", \"Try saying that a different way!\"\n",
    "    ]\n",
    "}\n",
    "\n",
    "def generate_response(user_input):\n",
    "    user_input = user_input.lower()\n",
    "\n",
    "    if any(word in user_input for word in [\"hello\", \"hi\"]):\n",
    "        return random.choice(responses[\"greeting\"])\n",
    "    elif any(word in user_input for word in [\"bye\", \"goodbye\", \"see you\"]):\n",
    "        return random.choice(responses[\"farewell\"])\n",
    "    elif \"thank\" in user_input:\n",
    "        return random.choice(responses[\"thanks\"])\n",
    "    elif any(word in user_input for word in [\"how are you\", \"how's it going\"]):\n",
    "        return random.choice(responses[\"how_are_you\"])\n",
    "    elif any(word in user_input for word in [\"smart\", \"awesome\", \"great job\", \"cool\"]):\n",
    "        return random.choice(responses[\"compliment\"])\n",
    "    elif \"?\" in user_input:\n",
    "        return random.choice(responses[\"question\"])\n",
    "    else:\n",
    "        return random.choice(responses[\"default\"])\n",
    "\n",
    "# Main interaction loop\n",
    "while True:\n",
    "    user_input = input(\"User: \")\n",
    "    \n",
    "    if user_input.lower() in [\"exit\", \"quit\"]:\n",
    "        print(\"Bot: Goodbye!\")\n",
    "        break\n",
    "\n",
    "    bot_response = generate_response(user_input)\n",
    "    print(\"Bot:\", bot_response)\n"
   ]
  },
  {
   "cell_type": "code",
   "execution_count": null,
   "id": "805f0b0d",
   "metadata": {},
   "outputs": [],
   "source": []
  }
 ],
 "metadata": {
  "kernelspec": {
   "display_name": "Python 3 (ipykernel)",
   "language": "python",
   "name": "python3"
  },
  "language_info": {
   "codemirror_mode": {
    "name": "ipython",
    "version": 3
   },
   "file_extension": ".py",
   "mimetype": "text/x-python",
   "name": "python",
   "nbconvert_exporter": "python",
   "pygments_lexer": "ipython3",
   "version": "3.12.7"
  }
 },
 "nbformat": 4,
 "nbformat_minor": 5
}
